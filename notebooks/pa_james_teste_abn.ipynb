{
 "cells": [
  {
   "cell_type": "markdown",
   "metadata": {},
   "source": [
    "# Curso Teste A/B/n - PA James"
   ]
  },
  {
   "cell_type": "markdown",
   "metadata": {},
   "source": [
    "## 0.1. Imports"
   ]
  },
  {
   "cell_type": "code",
   "execution_count": 1,
   "metadata": {},
   "outputs": [],
   "source": [
    "import pandas as pd\n",
    "import numpy as np\n",
    "import scipy.stats as stats\n",
    "\n",
    "from statsmodels.stats.gof import chisquare_effectsize\n",
    "from statsmodels.stats.power import GofChisquarePower, TTestIndPower\n",
    "from statsmodels.sandbox.stats.multicomp import multipletests\n",
    "from itertools import combinations"
   ]
  },
  {
   "cell_type": "markdown",
   "metadata": {},
   "source": [
    "# 1.0. Carregar Dados"
   ]
  },
  {
   "cell_type": "code",
   "execution_count": 2,
   "metadata": {},
   "outputs": [
    {
     "data": {
      "text/html": [
       "<div>\n",
       "<style scoped>\n",
       "    .dataframe tbody tr th:only-of-type {\n",
       "        vertical-align: middle;\n",
       "    }\n",
       "\n",
       "    .dataframe tbody tr th {\n",
       "        vertical-align: top;\n",
       "    }\n",
       "\n",
       "    .dataframe thead th {\n",
       "        text-align: right;\n",
       "    }\n",
       "</style>\n",
       "<table border=\"1\" class=\"dataframe\">\n",
       "  <thead>\n",
       "    <tr style=\"text-align: right;\">\n",
       "      <th></th>\n",
       "      <th>variant</th>\n",
       "      <th>visits</th>\n",
       "      <th>clicks_all</th>\n",
       "      <th>clicks_link</th>\n",
       "      <th>conversion</th>\n",
       "    </tr>\n",
       "  </thead>\n",
       "  <tbody>\n",
       "    <tr>\n",
       "      <th>0</th>\n",
       "      <td>interact</td>\n",
       "      <td>10283</td>\n",
       "      <td>3714</td>\n",
       "      <td>42</td>\n",
       "      <td>0.011309</td>\n",
       "    </tr>\n",
       "    <tr>\n",
       "      <th>1</th>\n",
       "      <td>connect</td>\n",
       "      <td>2842</td>\n",
       "      <td>1587</td>\n",
       "      <td>53</td>\n",
       "      <td>0.033396</td>\n",
       "    </tr>\n",
       "    <tr>\n",
       "      <th>2</th>\n",
       "      <td>learn</td>\n",
       "      <td>2747</td>\n",
       "      <td>1652</td>\n",
       "      <td>21</td>\n",
       "      <td>0.012712</td>\n",
       "    </tr>\n",
       "    <tr>\n",
       "      <th>3</th>\n",
       "      <td>help</td>\n",
       "      <td>3180</td>\n",
       "      <td>1717</td>\n",
       "      <td>38</td>\n",
       "      <td>0.022132</td>\n",
       "    </tr>\n",
       "    <tr>\n",
       "      <th>4</th>\n",
       "      <td>services</td>\n",
       "      <td>2064</td>\n",
       "      <td>1348</td>\n",
       "      <td>45</td>\n",
       "      <td>0.033383</td>\n",
       "    </tr>\n",
       "  </tbody>\n",
       "</table>\n",
       "</div>"
      ],
      "text/plain": [
       "    variant  visits  clicks_all  clicks_link  conversion\n",
       "0  interact   10283        3714           42    0.011309\n",
       "1   connect    2842        1587           53    0.033396\n",
       "2     learn    2747        1652           21    0.012712\n",
       "3      help    3180        1717           38    0.022132\n",
       "4  services    2064        1348           45    0.033383"
      ]
     },
     "execution_count": 2,
     "metadata": {},
     "output_type": "execute_result"
    }
   ],
   "source": [
    "d = { 'variant': ['interact', 'connect', 'learn', 'help', 'services'],\n",
    "      'visits': [10283, 2842, 2747, 3180, 2064],\n",
    "      'clicks_all': [3714, 1587, 1652, 1717, 1348],\n",
    "      'clicks_link': [42, 53, 21, 38, 45]}\n",
    "\n",
    "data = pd.DataFrame(d)\n",
    "data['conversion'] = data['clicks_link'] / data['clicks_all']\n",
    "data"
   ]
  },
  {
   "cell_type": "markdown",
   "metadata": {},
   "source": [
    "# 2.0. Design de Experimentos"
   ]
  },
  {
   "cell_type": "markdown",
   "metadata": {},
   "source": [
    "## 2.1. Formulação das Hipóteses"
   ]
  },
  {
   "cell_type": "code",
   "execution_count": 3,
   "metadata": {},
   "outputs": [],
   "source": [
    "# H0: Não á nenhuma diferença entre o CTR das variantes da página\n",
    "# H1: Há uma diferença entre os CTR das variantes da página\n",
    "#\n",
    "# Teste Bi-Caudal"
   ]
  },
  {
   "cell_type": "markdown",
   "metadata": {},
   "source": [
    "## 2.2. Parâmetros do Experimento"
   ]
  },
  {
   "cell_type": "code",
   "execution_count": 4,
   "metadata": {},
   "outputs": [],
   "source": [
    "k = len(data['clicks_all'])\n",
    "actual_dist = data['clicks_link'] / data['clicks_link'].sum()\n",
    "expected_dist = [1/k]*k"
   ]
  },
  {
   "cell_type": "code",
   "execution_count": 5,
   "metadata": {},
   "outputs": [
    {
     "name": "stdout",
     "output_type": "stream",
     "text": [
      "Tamanho mínimo da amostra por variante: 222\n",
      "Tamanho total amostras: 1110\n"
     ]
    }
   ],
   "source": [
    "efect_size = chisquare_effectsize(expected_dist, actual_dist)\n",
    "alpha = 0.05\n",
    "power = 0.80\n",
    "\n",
    "## Goodness of fitness\n",
    "# sample_size = GofChisquarePower().solve_power(\n",
    "#     effect_size=efect_size,\n",
    "#     alpha=alpha,\n",
    "#     power=power,\n",
    "#     n_bins=(2-1)*(5-1) # (nFeature-1)*(nRows-1)\n",
    "# )\n",
    "\n",
    "# Teste de independência (Homogeneidade)\n",
    "sample_size = TTestIndPower().solve_power(\n",
    "    effect_size=efect_size,\n",
    "    alpha=alpha,\n",
    "    power=power\n",
    ")\n",
    "\n",
    "sample_size = np.ceil(sample_size).astype(int)\n",
    "\n",
    "print(f'Tamanho mínimo da amostra por variante: {sample_size}')\n",
    "print(f'Tamanho total amostras: {k*sample_size}')"
   ]
  },
  {
   "cell_type": "markdown",
   "metadata": {},
   "source": [
    "# 3.0. Conversão da página em Faturamento"
   ]
  },
  {
   "cell_type": "code",
   "execution_count": 6,
   "metadata": {},
   "outputs": [
    {
     "data": {
      "text/html": [
       "<div>\n",
       "<style scoped>\n",
       "    .dataframe tbody tr th:only-of-type {\n",
       "        vertical-align: middle;\n",
       "    }\n",
       "\n",
       "    .dataframe tbody tr th {\n",
       "        vertical-align: top;\n",
       "    }\n",
       "\n",
       "    .dataframe thead th {\n",
       "        text-align: right;\n",
       "    }\n",
       "</style>\n",
       "<table border=\"1\" class=\"dataframe\">\n",
       "  <thead>\n",
       "    <tr style=\"text-align: right;\">\n",
       "      <th></th>\n",
       "      <th>clicks_link</th>\n",
       "      <th>no_clicks_link</th>\n",
       "    </tr>\n",
       "    <tr>\n",
       "      <th>variant</th>\n",
       "      <th></th>\n",
       "      <th></th>\n",
       "    </tr>\n",
       "  </thead>\n",
       "  <tbody>\n",
       "    <tr>\n",
       "      <th>interact</th>\n",
       "      <td>42</td>\n",
       "      <td>3672</td>\n",
       "    </tr>\n",
       "    <tr>\n",
       "      <th>connect</th>\n",
       "      <td>53</td>\n",
       "      <td>1534</td>\n",
       "    </tr>\n",
       "    <tr>\n",
       "      <th>learn</th>\n",
       "      <td>21</td>\n",
       "      <td>1631</td>\n",
       "    </tr>\n",
       "    <tr>\n",
       "      <th>help</th>\n",
       "      <td>38</td>\n",
       "      <td>1679</td>\n",
       "    </tr>\n",
       "    <tr>\n",
       "      <th>services</th>\n",
       "      <td>45</td>\n",
       "      <td>1303</td>\n",
       "    </tr>\n",
       "  </tbody>\n",
       "</table>\n",
       "</div>"
      ],
      "text/plain": [
       "          clicks_link  no_clicks_link\n",
       "variant                              \n",
       "interact           42            3672\n",
       "connect            53            1534\n",
       "learn              21            1631\n",
       "help               38            1679\n",
       "services           45            1303"
      ]
     },
     "execution_count": 6,
     "metadata": {},
     "output_type": "execute_result"
    }
   ],
   "source": [
    "data['no_clicks_link'] = data['clicks_all'] - data['clicks_link']\n",
    "df = data[['variant', 'clicks_link', 'no_clicks_link']]\n",
    "df.set_index('variant', inplace=True)\n",
    "df"
   ]
  },
  {
   "cell_type": "code",
   "execution_count": 7,
   "metadata": {},
   "outputs": [
    {
     "name": "stdout",
     "output_type": "stream",
     "text": [
      "Chi Squared: 46.33660181942126 - p-value: 2.0959498129984563e-09\n"
     ]
    }
   ],
   "source": [
    "chi2, p_value, dof, ex = stats.chi2_contingency(df)\n",
    "print('Chi Squared: {} - p-value: {}'.format(chi2, p_value))"
   ]
  },
  {
   "cell_type": "markdown",
   "metadata": {},
   "source": [
    "# 4.0. Post-hoc Testing"
   ]
  },
  {
   "cell_type": "code",
   "execution_count": 8,
   "metadata": {},
   "outputs": [],
   "source": [
    "all_combinations = list(combinations(df.index, 2))\n",
    "p_values = []\n",
    "\n",
    "for comb in all_combinations:\n",
    "    new_df = df[(df.index == comb[0]) | (df.index == comb[1])]\n",
    "    chi2, p_value, dof, ex = stats.chi2_contingency(new_df)\n",
    "    p_values.append(p_value)\n",
    "\n",
    "# Correção de Benferroni\n",
    "reject_list, correct_p_values = multipletests(p_values, method='bonferroni')[:2]"
   ]
  },
  {
   "cell_type": "code",
   "execution_count": 9,
   "metadata": {},
   "outputs": [
    {
     "name": "stdout",
     "output_type": "stream",
     "text": [
      "\n",
      "('interact', 'connect'): p_value:5.3676772349808135e-08; corrected_p_value:5.367677234980813e-07; Reject:True\n",
      "\n",
      "('interact', 'learn'): p_value:0.7616980743361713; corrected_p_value:1.0; Reject:False\n",
      "\n",
      "('interact', 'help'): p_value:0.0031030587017400212; corrected_p_value:0.03103058701740021; Reject:True\n",
      "\n",
      "('interact', 'services'): p_value:1.798089447385411e-07; corrected_p_value:1.7980894473854111e-06; Reject:True\n",
      "\n",
      "('connect', 'learn'): p_value:0.00013292868361715983; corrected_p_value:0.0013292868361715984; Reject:True\n",
      "\n",
      "('connect', 'help'): p_value:0.06144184057612575; corrected_p_value:0.6144184057612575; Reject:False\n",
      "\n",
      "('connect', 'services'): p_value:1.0; corrected_p_value:1.0; Reject:False\n",
      "\n",
      "('learn', 'help'): p_value:0.0508958228881819; corrected_p_value:0.5089582288818191; Reject:False\n",
      "\n",
      "('learn', 'services'): p_value:0.00020374035733741825; corrected_p_value:0.0020374035733741825; Reject:True\n",
      "\n",
      "('help', 'services'): p_value:0.07301998638337415; corrected_p_value:0.7301998638337415; Reject:False\n"
     ]
    }
   ],
   "source": [
    "for comb, p_val, corr_p_val, reject in zip(all_combinations, p_values, correct_p_values, reject_list):\n",
    "    print('\\n{}: p_value:{}; corrected_p_value:{}; Reject:{}'.format(comb, p_val, corr_p_val, reject))"
   ]
  },
  {
   "cell_type": "markdown",
   "metadata": {},
   "source": [
    "**Resultado do teste:**\n",
    "\n",
    "    Interact x Connect -> Há uma relação, diferença, dependência -> p_value = 5.367677234980813e-07\n",
    "    Interact x Services -> Há uma relação, diferença, dependência -> p_value = 1.7980894473854111e-06\n",
    "    Interact x Help -> Há uma relação, diferença, dependência -> p_value = 0.6144184057612575\n",
    "\n",
    "    Connect x help -> Não há diferença\n",
    "    Connect x Services -> Não há diferença\n",
    "    Help x services -> Não há diferença\n",
    "\n"
   ]
  },
  {
   "cell_type": "markdown",
   "metadata": {},
   "source": []
  }
 ],
 "metadata": {
  "kernelspec": {
   "display_name": "Python 3.8.13 ('teste_ab')",
   "language": "python",
   "name": "python3"
  },
  "language_info": {
   "codemirror_mode": {
    "name": "ipython",
    "version": 3
   },
   "file_extension": ".py",
   "mimetype": "text/x-python",
   "name": "python",
   "nbconvert_exporter": "python",
   "pygments_lexer": "ipython3",
   "version": "3.8.13"
  },
  "orig_nbformat": 4,
  "vscode": {
   "interpreter": {
    "hash": "575a0a43810ec38097f51df2ea59366847333539d5827c3393042adfafe21bb5"
   }
  }
 },
 "nbformat": 4,
 "nbformat_minor": 2
}
